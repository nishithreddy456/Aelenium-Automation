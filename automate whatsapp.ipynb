{
 "cells": [
  {
   "cell_type": "code",
   "execution_count": 1,
   "metadata": {},
   "outputs": [],
   "source": [
    "from selenium import webdriver\n"
   ]
  },
  {
   "cell_type": "code",
   "execution_count": 5,
   "metadata": {},
   "outputs": [],
   "source": [
    "browser=webdriver.Chrome(\"C:/Users/Alexander/Downloads/chromedriver/chromedriver.exe\")"
   ]
  },
  {
   "cell_type": "code",
   "execution_count": 6,
   "metadata": {
    "scrolled": true
   },
   "outputs": [],
   "source": [
    "browser.get(\"https://selenium.dev/\")"
   ]
  },
  {
   "cell_type": "markdown",
   "metadata": {},
   "source": [
    "## whatsapp automate"
   ]
  },
  {
   "cell_type": "code",
   "execution_count": null,
   "metadata": {},
   "outputs": [],
   "source": [
    "from selenium import webdriver\n",
    "from selenium.webdriver.common.by import By\n",
    "from selenium.webdriver.support.ui import WebDriverWait\n",
    "from selenium.webdriver.common.keys import Keys\n",
    "from selenium.webdriver.support import expected_conditions as EC\n",
    "import time\n",
    "#import msg\n",
    "\n",
    "browser=webdriver.Chrome(\"C:/Users/Alexander/Downloads/chromedriver/chromedriver.exe\")\n",
    "browser.get(\"https://web.whatsapp.com/\")\n",
    "wait=WebDriverWait(browser,600)\n",
    "\n",
    "target='\"Kavi\"'\n",
    "string=\"Message from me!!\"\n",
    "x_arg= '//span[contains(@title,'+ target +')]'\n",
    "target=wait.until(EC.presence_of_element_located((By.XPATH,x_arg)))\n",
    "target.click()"
   ]
  },
  {
   "cell_type": "code",
   "execution_count": null,
   "metadata": {},
   "outputs": [],
   "source": [
    "input_box=browser.find_element_by_class_name('_1Plpp')\n",
    "\n",
    "for i in range(50):\n",
    "    input_box.send_keys(string + Keys.ENTER)"
   ]
  },
  {
   "cell_type": "code",
   "execution_count": null,
   "metadata": {},
   "outputs": [],
   "source": []
  },
  {
   "cell_type": "code",
   "execution_count": null,
   "metadata": {},
   "outputs": [],
   "source": []
  },
  {
   "cell_type": "code",
   "execution_count": null,
   "metadata": {},
   "outputs": [],
   "source": []
  },
  {
   "cell_type": "code",
   "execution_count": null,
   "metadata": {},
   "outputs": [],
   "source": []
  },
  {
   "cell_type": "code",
   "execution_count": 28,
   "metadata": {},
   "outputs": [
    {
     "name": "stdout",
     "output_type": "stream",
     "text": [
      "enter the file pathC:/Users/Alexander/Desktop/whatsapp/1.jpg\n",
      "enter the messagehlooo baa\n"
     ]
    }
   ],
   "source": [
    "from selenium import webdriver\n",
    "from selenium.webdriver.common.by import By\n",
    "from selenium.webdriver.support.ui import WebDriverWait\n",
    "from selenium.webdriver.common.keys import Keys\n",
    "from selenium.webdriver.support import expected_conditions as EC\n",
    "import time\n",
    "\n",
    "\n",
    "browser=webdriver.Chrome(\"C:/Users/Alexander/Downloads/chromedriver/chromedriver.exe\")\n",
    "browser.get(\"https://web.whatsapp.com/\")\n",
    "wait=WebDriverWait(browser,600)\n",
    "\n",
    "target='\"Pulihora Rani Actor\"'\n",
    "file_path=input(\"enter the file path\")\n",
    "string=input(\"enter the message\")\n",
    "x_arg= '//span[contains(@title, '+ target +')]'\n",
    "target=wait.until(EC.presence_of_element_located((By.XPATH,x_arg)))\n",
    "target.click()"
   ]
  },
  {
   "cell_type": "code",
   "execution_count": 29,
   "metadata": {},
   "outputs": [],
   "source": [
    "input_box=browser.find_element_by_class_name('_1Plpp')\n",
    "\n",
    "for i in range(50):\n",
    "    input_box.send_keys(string + Keys.ENTER)"
   ]
  },
  {
   "cell_type": "code",
   "execution_count": null,
   "metadata": {},
   "outputs": [],
   "source": [
    "file_path='C:/Users/Alexander/Desktop/whatsapp/1.jpg'"
   ]
  },
  {
   "cell_type": "code",
   "execution_count": 30,
   "metadata": {},
   "outputs": [],
   "source": [
    "from time import sleep\n",
    "attachment_section=browser.find_element_by_xpath('//div[@title=\"Attach\"]')\n",
    "attachment_section.click()\n",
    "image_box=attachment_section=browser.find_element_by_xpath('//input[@accept=\"image/*,video/mp4,video/3gpp,video/quicktime\"]')\n",
    "image_box.send_keys(file_path)\n",
    "sleep(3)\n",
    "\n",
    "send_button=browser.find_element_by_xpath('//span[@data-icon=\"send-light\"]')\n",
    "send_button.click()"
   ]
  },
  {
   "cell_type": "markdown",
   "metadata": {},
   "source": [
    "### full \n",
    "### messages with document\n"
   ]
  },
  {
   "cell_type": "code",
   "execution_count": null,
   "metadata": {},
   "outputs": [],
   "source": [
    "from selenium import webdriver\n",
    "from selenium.webdriver.common.by import By\n",
    "from selenium.webdriver.support.ui import WebDriverWait\n",
    "from selenium.webdriver.common.keys import Keys\n",
    "from selenium.webdriver.support import expected_conditions as EC\n",
    "import time\n",
    "\n",
    "\n",
    "browser=webdriver.Chrome(\"C:/Users/Alexander/Downloads/chromedriver/chromedriver/chromedriver.exe\") # download chromedriver\n",
    "browser.get(\"https://web.whatsapp.com/\")\n",
    "wait=WebDriverWait(browser,600)\n",
    "\n",
    "target='\"test\"'    #enter a contact name to send\n",
    "#file_path=input(\"enter the file path\")\n",
    "string=input(\"enter the message\")\n",
    "x_arg= '//span[contains(@title, '+ target +')]'\n",
    "target=wait.until(EC.presence_of_element_located((By.XPATH,x_arg)))\n",
    "target.click()\n",
    "\n",
    "input_box=browser.find_element_by_class_name('_3uMse')  #_3uMse--> this is the class name for the message to send\n",
    "\n",
    "for i in range(50):\n",
    "    input_box.send_keys(string + Keys.ENTER)\n",
    "    \n",
    "file_path='C:/Users/Alexander/Desktop/whatsapp/1.jpg'   # file path for document to send \n",
    "    \n",
    "from time import sleep\n",
    "attachment_section=browser.find_element_by_xpath('//div[@title=\"Attach\"]')\n",
    "attachment_section.click()\n",
    "image_box=attachment_section=browser.find_element_by_xpath('//input[@accept=\"image/*,video/mp4,video/3gpp,video/quicktime\"]')\n",
    "image_box.send_keys(file_path)\n",
    "sleep(3)\n",
    "\n",
    "send_button=browser.find_element_by_xpath('//span[@data-icon=\"send-light\"]')\n",
    "send_button.click()"
   ]
  },
  {
   "cell_type": "markdown",
   "metadata": {},
   "source": [
    "### only messages"
   ]
  },
  {
   "cell_type": "code",
   "execution_count": null,
   "metadata": {},
   "outputs": [],
   "source": [
    "from selenium import webdriver\n",
    "from selenium.webdriver.common.by import By\n",
    "from selenium.webdriver.support.ui import WebDriverWait\n",
    "from selenium.webdriver.common.keys import Keys\n",
    "from selenium.webdriver.support import expected_conditions as EC\n",
    "import time\n",
    "#import msg\n",
    "\n",
    "browser=webdriver.Chrome(\"C:/Users/Alexander/Downloads/chromedriver/chromedriver/chromedriver.exe\")\n",
    "browser.get(\"https://web.whatsapp.com/\")\n",
    "wait=WebDriverWait(browser,600)\n",
    "\n",
    "target='\"Buska\"'\n",
    "string=\"Ni Bondhaaaa!!\"\n",
    "x_arg= '//span[contains(@title,'+ target +')]'\n",
    "target=wait.until(EC.presence_of_element_located((By.XPATH,x_arg)))\n",
    "target.click()\n",
    "input_box=browser.find_element_by_class_name('_3uMse')\n",
    "\n",
    "for i in range(100):\n",
    "    input_box.send_keys(string + Keys.ENTER)\n"
   ]
  }
 ],
 "metadata": {
  "kernelspec": {
   "display_name": "Python 3",
   "language": "python",
   "name": "python3"
  },
  "language_info": {
   "codemirror_mode": {
    "name": "ipython",
    "version": 3
   },
   "file_extension": ".py",
   "mimetype": "text/x-python",
   "name": "python",
   "nbconvert_exporter": "python",
   "pygments_lexer": "ipython3",
   "version": "3.7.3"
  }
 },
 "nbformat": 4,
 "nbformat_minor": 2
}
